{
  "cells": [
    {
      "cell_type": "code",
      "execution_count": 44,
      "metadata": {
        "colab": {
          "base_uri": "https://localhost:8080/"
        },
        "id": "w2Vuath9rA3T",
        "outputId": "220272e4-3510-4037-9363-125e730a7665"
      },
      "outputs": [
        {
          "name": "stdout",
          "output_type": "stream",
          "text": [
            "Drive already mounted at /content/drive; to attempt to forcibly remount, call drive.mount(\"/content/drive\", force_remount=True).\n"
          ]
        }
      ],
      "source": [
        "from google.colab import drive\n",
        "drive.mount('/content/drive')"
      ]
    },
    {
      "cell_type": "code",
      "execution_count": 45,
      "metadata": {
        "id": "HpVkaOXrqmdj"
      },
      "outputs": [],
      "source": [
        "!wget https://nlp.stanford.edu/data/glove.twitter.27B.zip\n",
        "!unzip glove.twitter.27B.zip"
      ]
    },
    {
      "cell_type": "code",
      "execution_count": 46,
      "metadata": {
        "id": "p0bvYgGtqjLx"
      },
      "outputs": [],
      "source": [
        "import pandas as pd\n",
        "import numpy as np\n",
        "import matplotlib.pyplot as plt\n",
        "import torch\n",
        "import torch.nn as nn\n",
        "import torch.nn.functional as F\n",
        "import torch.optim as optim\n",
        "from sklearn.metrics import precision_score, recall_score, f1_score\n",
        "import nltk\n",
        "from nltk.corpus import stopwords\n",
        "\n",
        "\n",
        "inputFile = \"/content/drive/MyDrive/AI2/ergasia_1/imdb-reviews.csv\"\n",
        "\n",
        "# Insert the path of the file you want to test HERE\n",
        "testFile = None\n",
        "\n",
        "df = pd.read_csv(inputFile, sep='\\t')\n",
        "\n",
        "# Drop the first column (url)\n",
        "df = df.drop(columns=['url'])\n",
        "\n",
        "positive = 0\n",
        "negative = 0\n",
        "neutral = 0\n",
        "\n",
        "# nltk.download('stopwords')\n",
        "\n",
        "for index, row in df.iterrows():\n",
        "    # if score is greater than 7, it is positive so change its value to 1, else 0\n",
        "    if row[\"rating\"] >= 7:\n",
        "        positive += 1\n",
        "        df.at[index, \"rating\"] = 1\n",
        "    elif row[\"rating\"] <= 4:\n",
        "        negative += 1\n",
        "        df.at[index, \"rating\"] = 0\n",
        "    else:\n",
        "        neutral += 1\n",
        "    # To Remove the stop words uncomment the below line. Does not improve accuracy\n",
        "    # df.at[index, \"review\"] = ' '.join([word for word in row[\"review\"].split() if word not in (stopwords.words('english'))])\n",
        "\n",
        "# Get the GloVe word embeddings\n",
        "gloveFile = \"glove.twitter.27B.200d.txt\"\n",
        "\n",
        "embeddings = {}\n",
        "with open(gloveFile, 'r', encoding=\"utf8\") as f:\n",
        "    for line in f:\n",
        "        values = line.split()\n",
        "        word = values[0]\n",
        "        coefs = np.asarray(values[1:], dtype='float32')\n",
        "        embeddings[word] = coefs"
      ]
    },
    {
      "cell_type": "code",
      "execution_count": 47,
      "metadata": {
        "id": "tHvxpOr3qjL3"
      },
      "outputs": [],
      "source": [
        "device = torch.device(\"cpu\")"
      ]
    },
    {
      "cell_type": "code",
      "execution_count": 48,
      "metadata": {
        "colab": {
          "base_uri": "https://localhost:8080/"
        },
        "id": "8IkCyq-KqjL4",
        "outputId": "880c5bd5-c0fb-4d6c-f838-777140240426"
      },
      "outputs": [
        {
          "name": "stdout",
          "output_type": "stream",
          "text": [
            "df size:  (45008, 2)\n",
            "train size:  (36006, 2)\n",
            "test size:  (4501, 2)\n",
            "validation size:  (4501, 2)\n"
          ]
        }
      ],
      "source": [
        "# Split the data into train 80% , test 10% and validation 10% sets\n",
        "\n",
        "train = df.sample(frac=0.8, random_state=42)\n",
        "test = df.drop(train.index)\n",
        "test = test.sample(frac=0.5, random_state=42)\n",
        "validation = df.drop(train.index)\n",
        "validation = validation.drop(test.index)\n",
        "\n",
        "if testFile is not None:\n",
        "    test = pd.read_csv(testFile, sep='\\t')\n",
        "    test = test.drop(columns=['url'])\n",
        "\n",
        "# print df, train, test, validation sizes\n",
        "print(\"df size: \", df.shape)\n",
        "print(\"train size: \", train.shape)\n",
        "print(\"test size: \", test.shape)\n",
        "print(\"validation size: \", validation.shape)"
      ]
    },
    {
      "cell_type": "code",
      "execution_count": 49,
      "metadata": {
        "id": "r1Mp72BxqjL6"
      },
      "outputs": [],
      "source": [
        "# Get X_train, y_train, X_test, y_test, X_validation, y_validation\n",
        "X_train = train[\"review\"]\n",
        "y_train = train[\"rating\"]\n",
        "X_test = test[\"review\"]\n",
        "y_test = test[\"rating\"]\n",
        "X_validation = validation[\"review\"]\n",
        "y_validation = validation[\"rating\"]\n",
        "\n",
        "\n",
        "# Create word vectors for train, test and validation sets\n",
        "def createWordVectors(data):\n",
        "  wordVectors = [];\n",
        "  for row in data:\n",
        "    sum = np.zeros(len(embeddings[\"hello\"]));\n",
        "    word_count = 0;\n",
        "    for word in row.split():\n",
        "      if word in embeddings:\n",
        "        sum = sum + embeddings[word];\n",
        "        word_count = word_count+1;\n",
        "    if word_count != 0:\n",
        "      wordVectors.append(sum/word_count);\n",
        "    else:\n",
        "      wordVectors.append(np.zeros(len(embeddings[\"hello\"])))\n",
        "\n",
        "  wordVectors = np.array(wordVectors, dtype=np.float32)\n",
        "  return wordVectors\n",
        "\n",
        "\n",
        "X_train = createWordVectors(X_train)\n",
        "X_test = createWordVectors(X_test)\n",
        "X_validation = createWordVectors(X_validation)\n",
        "\n",
        "# Convert the word vectors from ndarrays to tensors\n",
        "X_train = torch.tensor(X_train, dtype=torch.float)\n",
        "X_test = torch.tensor(X_test, dtype=torch.float)\n",
        "X_validation = torch.tensor(X_validation, dtype=torch.float)\n",
        "\n",
        "# Convert the labels to tensors\n",
        "y_train = torch.tensor(y_train.values, dtype=torch.float)\n",
        "y_test = torch.tensor(y_test.values, dtype=torch.float)\n",
        "y_validation = torch.tensor(y_validation.values, dtype=torch.float)\n"
      ]
    },
    {
      "cell_type": "code",
      "execution_count": 50,
      "metadata": {
        "id": "Hx63VTOOqjL7"
      },
      "outputs": [],
      "source": [
        "# The following classes regarding Attention, additiveAttention and multiplicativeAttention\n",
        "# is developed by Tomek Korbak, PhD student, University of Sussex and can be\n",
        "# found at the following link: \n",
        "# https://tomekkorbak.com/2020/06/26/implementing-attention-in-pytorch/\n",
        "\n",
        "\n",
        "class Attention(torch.nn.Module):\n",
        "\n",
        "    def __init__(self, encoder_dim: int, decoder_dim: int):\n",
        "        super().__init__()\n",
        "        self.encoder_dim = encoder_dim\n",
        "        self.decoder_dim = decoder_dim\n",
        "\n",
        "    def forward(self, \n",
        "        query: torch.Tensor,  # [decoder_dim]\n",
        "        values: torch.Tensor, # [seq_length, encoder_dim]\n",
        "        ):\n",
        "        weights = self._get_weights(query, values) # [seq_length]\n",
        "        weights = torch.nn.functional.softmax(weights, dim=0)\n",
        "        return weights @ values  # [encoder_dim]\n",
        "\n",
        "\n",
        "class AdditiveAttention(Attention):\n",
        "\n",
        "    def __init__(self, encoder_dim, decoder_dim):\n",
        "        super().__init__(encoder_dim, decoder_dim)\n",
        "        self.v = torch.nn.Parameter(\n",
        "            torch.FloatTensor(self.decoder_dim).uniform_(-0.1, 0.1))\n",
        "        self.W_1 = torch.nn.Linear(self.decoder_dim, self.decoder_dim)\n",
        "        self.W_2 = torch.nn.Linear(self.encoder_dim, self.decoder_dim)\n",
        "\n",
        "    def _get_weights(self,        \n",
        "        query: torch.Tensor,  # [decoder_dim]\n",
        "        values: torch.Tensor,  # [seq_length, encoder_dim]\n",
        "    ):\n",
        "        query = query.repeat(values.size(0), 1)  # [seq_length, decoder_dim]\n",
        "        weights = self.W_1(query) + self.W_2(values)  # [seq_length, decoder_dim]\n",
        "        return torch.tanh(weights) @ self.v  # [seq_length]\n",
        "\n",
        "class MultiplicativeAttention(Attention):\n",
        "\n",
        "    def __init__(self, encoder_dim: int, decoder_dim: int):\n",
        "        super().__init__(encoder_dim, decoder_dim)\n",
        "        self.W = torch.nn.Parameter(torch.FloatTensor(\n",
        "            self.decoder_dim, self.encoder_dim).uniform_(-0.1, 0.1))\n",
        "\n",
        "    def _get_weights(self,\n",
        "        query: torch.Tensor,  # [decoder_dim]\n",
        "        values: torch.Tensor, # [seq_length, encoder_dim]\n",
        "    ):\n",
        "        weights = query @ self.W @ values.T  # [seq_length]\n",
        "        return weights/np.sqrt(self.decoder_dim)  # [seq_length]"
      ]
    },
    {
      "cell_type": "code",
      "execution_count": 51,
      "metadata": {
        "id": "vtAs2ziPqjL9"
      },
      "outputs": [],
      "source": [
        "class Net(nn.Module):\n",
        "    def __init__(self, input_size, hidden_size, num_layers, output_size, bidirectional):\n",
        "        super(Net, self).__init__()\n",
        "\n",
        "        # batch_first=True causes input/output tensors to be of shape (batch, seq, feature), num_layers is the number of stacked RNNs\n",
        "        self.lstm = nn.LSTM(input_size, hidden_size, num_layers, batch_first=True, bidirectional=bidirectional)\n",
        "        # self.gru = nn.GRU(input_size, hidden_size, num_layers, batch_first=True, bidirectional=bidirectional)\n",
        "        self.attention = AdditiveAttention(encoder_dim=hidden_size,decoder_dim=hidden_size)        \n",
        "        self.dropout = nn.Dropout(0.2)\n",
        "\n",
        "        if bidirectional:\n",
        "            hidden_size = hidden_size * 2\n",
        "\n",
        "        self.skip = nn.ModuleList([nn.Linear(input_size, hidden_size) for _ in range(num_layers)])\n",
        "        self.relu = nn.ReLU()\n",
        "        self.out = nn.Linear(hidden_size, output_size)\n",
        "    \n",
        "    # Forward pass that uses attention - Error crashes the kernel because it cannot allocate enough memory\n",
        "    # def forward(self, x):\n",
        "    #     # x shape: (batch, seq, feature)\n",
        "    #     # r_out shape: (batch, time_step, output_size)\n",
        "    #     # h_n shape: (n_layers, batch, hidden_size)\n",
        "    #     # h_c shape: (n_layers, batch, hidden_size)\n",
        "        \n",
        "    #     # LSTM\n",
        "    #     r_out, (h_n, h_c) = self.lstm(x, None)\n",
        "    #     # GRU\n",
        "    #     query = h_n.squeeze(0)\n",
        "    #     attended_out = self.attention(query,r_out)\n",
        "\n",
        "    #      # adding skip connections\n",
        "    #     for i in range(len(self.skip)):\n",
        "    #         attended_out += self.relu(self.skip[i](x).repeat(1,1,1))\n",
        "\n",
        "\n",
        "    #     # dropout with predifined drop probability\n",
        "    #     attended_out = self.dropout(attended_out)\n",
        "\n",
        "\n",
        "    #     # choose r_out at the last time step\n",
        "    #     out = self.out(attended_out[:, -1, :])\n",
        "\n",
        "    #     return torch.sigmoid(out)\n",
        "\n",
        "    def forward(self, x):\n",
        "        # x shape: (batch, seq, feature)\n",
        "        # r_out shape: (batch, time_step, output_size)\n",
        "        # h_n shape: (n_layers, batch, hidden_size)\n",
        "        # h_c shape: (n_layers, batch, hidden_size)\n",
        "        \n",
        "        # LSTM\n",
        "        r_out, (h_n, h_c) = self.lstm(x, None)\n",
        "        # GRU\n",
        "        # r_out, h_n = self.gru(x, None)\n",
        "\n",
        "        # adding skip connections\n",
        "        for i in range(len(self.skip)):\n",
        "            r_out += self.relu(self.skip[i](x))\n",
        "\n",
        "        # dropout with predifined drop probability\n",
        "        r_out = self.dropout(r_out)\n",
        "\n",
        "        # choose r_out at the last time step\n",
        "        out = self.out(r_out[:, -1, :])\n",
        "\n",
        "        return torch.sigmoid(out)\n",
        "\n"
      ]
    },
    {
      "cell_type": "code",
      "execution_count": 52,
      "metadata": {
        "id": "WJy3fTpJqjL-"
      },
      "outputs": [],
      "source": [
        "# Configure the model\n",
        "\n",
        "input_size = 200\n",
        "hidden_size = 200\n",
        "num_layers = 2\n",
        "output_size = 1\n",
        "batch_size = 256\n",
        "bidirectional = True\n",
        "\n",
        "net = Net(input_size, hidden_size, num_layers, output_size, bidirectional)\n",
        "\n",
        "EPOCH = 40\n",
        "LR = 0.0005\n",
        "\n",
        "optimizer = torch.optim.Adam(net.parameters(), lr=LR)  # optimize all net parameters\n",
        "loss_func = nn.BCELoss()\n",
        "\n",
        "# Initialize dataloader\n",
        "dataset = torch.utils.data.TensorDataset(X_train, y_train)\n",
        "dataloader = torch.utils.data.DataLoader(dataset, batch_size=batch_size, shuffle=True)"
      ]
    },
    {
      "cell_type": "code",
      "execution_count": 40,
      "metadata": {
        "colab": {
          "base_uri": "https://localhost:8080/"
        },
        "id": "oLPcsHFUqjL_",
        "outputId": "f1e7129f-49b9-44b0-a29a-c38ce820cf44"
      },
      "outputs": [
        {
          "name": "stdout",
          "output_type": "stream",
          "text": [
            "Epoch:  1 | train loss: 0.5629 | val loss: 0.4542\n",
            "Epoch:  2 | train loss: 0.4412 | val loss: 0.4433\n",
            "Epoch:  3 | train loss: 0.4286 | val loss: 0.4226\n",
            "Epoch:  4 | train loss: 0.4187 | val loss: 0.4128\n",
            "Epoch:  5 | train loss: 0.4134 | val loss: 0.4105\n",
            "Epoch:  6 | train loss: 0.4115 | val loss: 0.4182\n",
            "Epoch:  7 | train loss: 0.4101 | val loss: 0.4143\n",
            "Epoch:  8 | train loss: 0.4057 | val loss: 0.4124\n",
            "Epoch:  9 | train loss: 0.4100 | val loss: 0.4123\n",
            "Epoch:  10 | train loss: 0.4033 | val loss: 0.4224\n",
            "Epoch:  11 | train loss: 0.4022 | val loss: 0.4058\n",
            "Epoch:  12 | train loss: 0.4014 | val loss: 0.4009\n",
            "Epoch:  13 | train loss: 0.3976 | val loss: 0.4102\n",
            "Epoch:  14 | train loss: 0.3985 | val loss: 0.3988\n",
            "Epoch:  15 | train loss: 0.3953 | val loss: 0.3984\n",
            "Epoch:  16 | train loss: 0.3955 | val loss: 0.3992\n",
            "Epoch:  17 | train loss: 0.3935 | val loss: 0.4009\n",
            "Epoch:  18 | train loss: 0.3932 | val loss: 0.4053\n",
            "Epoch:  19 | train loss: 0.3937 | val loss: 0.3987\n",
            "Epoch:  20 | train loss: 0.3897 | val loss: 0.3950\n",
            "Epoch:  21 | train loss: 0.3887 | val loss: 0.3993\n",
            "Epoch:  22 | train loss: 0.3886 | val loss: 0.4008\n",
            "Epoch:  23 | train loss: 0.3862 | val loss: 0.4050\n",
            "Epoch:  24 | train loss: 0.3846 | val loss: 0.4163\n",
            "Epoch:  25 | train loss: 0.3853 | val loss: 0.3941\n",
            "Epoch:  26 | train loss: 0.3846 | val loss: 0.3926\n",
            "Epoch:  27 | train loss: 0.3832 | val loss: 0.3999\n",
            "Epoch:  28 | train loss: 0.3846 | val loss: 0.3955\n",
            "Epoch:  29 | train loss: 0.3824 | val loss: 0.3924\n",
            "Epoch:  30 | train loss: 0.3827 | val loss: 0.3910\n",
            "Epoch:  31 | train loss: 0.3791 | val loss: 0.3917\n",
            "Epoch:  32 | train loss: 0.3764 | val loss: 0.4000\n",
            "Epoch:  33 | train loss: 0.3778 | val loss: 0.3962\n",
            "Epoch:  34 | train loss: 0.3750 | val loss: 0.3995\n",
            "Epoch:  35 | train loss: 0.3753 | val loss: 0.3962\n",
            "Epoch:  36 | train loss: 0.3746 | val loss: 0.3912\n",
            "Epoch:  37 | train loss: 0.3701 | val loss: 0.3909\n",
            "Epoch:  38 | train loss: 0.3694 | val loss: 0.3919\n",
            "Epoch:  39 | train loss: 0.3705 | val loss: 0.4019\n",
            "Epoch:  40 | train loss: 0.3716 | val loss: 0.3880\n"
          ]
        }
      ],
      "source": [
        "from torch.nn.utils import clip_grad_norm_\n",
        "\n",
        "\n",
        "# Start training the model\n",
        "net.train()\n",
        "\n",
        "train_loss = []\n",
        "val_loss = []\n",
        "\n",
        "for epoch in range(EPOCH):\n",
        "\n",
        "    batch_losses = []\n",
        "\n",
        "    for step, (batch_x, batch_y) in enumerate(dataloader):\n",
        "        \n",
        "        # clear gradients for this training step\n",
        "        optimizer.zero_grad()\n",
        "\n",
        "        # reshape x to (batch, time_step, input_size)\n",
        "        b_x = batch_x.view(-1, 1, 200)\n",
        "        \n",
        "        # batch y\n",
        "        b_y = batch_y\n",
        "\n",
        "        # rnn output\n",
        "        output = net(b_x)\n",
        "        # cross entropy loss\n",
        "        loss = loss_func(output, b_y.unsqueeze(1))\n",
        "        batch_losses.append(loss.item())\n",
        "        # step += 1\n",
        "\n",
        "        # backpropagation - compute gradients    \n",
        "        loss.backward()\n",
        "        nn.utils.clip_grad_value_(net.parameters(), 20)\n",
        "\n",
        "        # apply gradients\n",
        "        optimizer.step()                 \n",
        "\n",
        "    with torch.no_grad():\n",
        "      avg_batch_loss_train = sum(batch_losses)/len(batch_losses)\n",
        "      train_loss.append(avg_batch_loss_train);\n",
        "      Y_val_pred = net(X_validation.view(-1, 1, 200));\n",
        "      loss_val = loss_func(Y_val_pred, y_validation.unsqueeze(-1))\n",
        "      val_loss.append(loss_val.item());\n",
        "    \n",
        "\n",
        "    #print validation loss every epoch\n",
        "    print('Epoch: ', epoch + 1, '| train loss: %.4f' % avg_batch_loss_train, '| val loss: %.4f' % loss_val.item())\n"
      ]
    },
    {
      "cell_type": "code",
      "execution_count": 41,
      "metadata": {
        "colab": {
          "base_uri": "https://localhost:8080/",
          "height": 265
        },
        "id": "06d5XNCWqjMB",
        "outputId": "a0740884-1582-48a0-db76-756ad569d3da"
      },
      "outputs": [
        {
          "data": {
            "image/png": "[encoded data removed]",
            "text/plain": [
              "<Figure size 432x288 with 1 Axes>"
            ]
          },
          "metadata": {
            "needs_background": "light"
          },
          "output_type": "display_data"
        }
      ],
      "source": [
        "# Plot the learning curves for train and validation sets\n",
        "plt.plot(train_loss, label='train')\n",
        "plt.plot(val_loss, label='validation')\n",
        "plt.legend()\n",
        "plt.show()"
      ]
    },
    {
      "cell_type": "code",
      "execution_count": 42,
      "metadata": {
        "colab": {
          "base_uri": "https://localhost:8080/"
        },
        "id": "ORWlSJn_qjMC",
        "outputId": "158ec2c1-e881-4280-aa51-45cbb4056d16"
      },
      "outputs": [
        {
          "name": "stdout",
          "output_type": "stream",
          "text": [
            "Train      --> Precision: 0.842, Recall: 0.829, F1: 0.836\n",
            "Validation --> Precision: 0.831, Recall: 0.819, F1: 0.825\n",
            "Test       --> Precision: 0.844, Recall: 0.812, F1: 0.827\n"
          ]
        }
      ],
      "source": [
        "# Calculate the precision, recall and f1 score\n",
        "def calculate_metrics(y_true, y_pred):\n",
        "    y_true = y_true.detach().numpy()\n",
        "    y_pred = y_pred.detach().numpy()\n",
        "    y_pred = np.where(y_pred > 0.5, 1, 0)\n",
        "    precision = precision_score(y_true, y_pred)\n",
        "    recall = recall_score(y_true, y_pred)\n",
        "    f1 = f1_score(y_true, y_pred)\n",
        "    return precision, recall, f1\n",
        "\n",
        "# Print the metrics for the train, test and validation sets\n",
        "def print_metrics(y_true, y_pred, title):\n",
        "    precision, recall, f1 = calculate_metrics(y_true, y_pred)\n",
        "    print(f\"{title:10} --> Precision: {precision:.3f}, Recall: {recall:.3f}, F1: {f1:.3f}\")\n",
        "\n",
        "# Print the metrics for the train set\n",
        "y_pred = net(X_train.view(-1, 1, 200))\n",
        "print_metrics(y_train, y_pred, \"Train\")\n",
        "\n",
        "# Print the metrics for the validation set\n",
        "y_pred = net(X_validation.view(-1, 1, 200))\n",
        "print_metrics(y_validation, y_pred, \"Validation\")\n",
        "\n",
        "# Print the metrics for the test set\n",
        "y_pred = net(X_test.view(-1, 1, 200))\n",
        "print_metrics(y_test, y_pred, \"Test\")"
      ]
    },
    {
      "cell_type": "code",
      "execution_count": 43,
      "metadata": {
        "colab": {
          "base_uri": "https://localhost:8080/",
          "height": 279
        },
        "id": "Qihvunh6qjMD",
        "outputId": "2ea2b9d9-6847-4b51-c2d2-80910ea7fb50"
      },
      "outputs": [
        {
          "data": {
            "image/png": "[encoded data removed]",
            "text/plain": [
              "<Figure size 432x288 with 1 Axes>"
            ]
          },
          "metadata": {
            "needs_background": "light"
          },
          "output_type": "display_data"
        }
      ],
      "source": [
        "# Print ROC curves for train, test and validation sets on the same plot\n",
        "\n",
        "from sklearn.metrics import roc_curve, auc\n",
        "\n",
        "def plot_roc_curve(y_true, y_pred, title, color):\n",
        "    fpr, tpr, _ = roc_curve(y_true.detach(), y_pred.detach())\n",
        "    plt.plot(fpr, tpr, label=f\"ROC curve for {title} set (area = {auc(fpr, tpr):.3f})\", color=color)\n",
        "    plt.plot([0, 1], [0, 1], 'k--') \n",
        "    plt.xlabel('False Positive Rate')\n",
        "    plt.ylabel('True Positive Rate')\n",
        "    plt.legend(loc=\"lower right\")\n",
        "\n",
        "# Plot the ROC curve for the train set\n",
        "y_pred = net(X_train.view(-1, 1, 200))\n",
        "plot_roc_curve(y_train, y_pred, \"Train\", \"royalblue\")\n",
        "\n",
        "# Plot the ROC curve for the test set\n",
        "y_pred = net(X_test.view(-1, 1, 200))\n",
        "plot_roc_curve(y_test, y_pred, \"Test\", \"darkorange\")\n",
        "\n",
        "# Plot the ROC curve for the validation set\n",
        "y_pred = net(X_validation.view(-1, 1, 200))\n",
        "plot_roc_curve(y_validation, y_pred, \"Validation\", \"seagreen\")\n",
        "\n",
        "plt.show()"
      ]
    }
  ],
  "metadata": {
    "accelerator": "GPU",
    "colab": {
      "provenance": []
    },
    "gpuClass": "standard",
    "kernelspec": {
      "display_name": "AI2",
      "language": "python",
      "name": "python3"
    },
    "language_info": {
      "codemirror_mode": {
        "name": "ipython",
        "version": 3
      },
      "file_extension": ".py",
      "mimetype": "text/x-python",
      "name": "python",
      "nbconvert_exporter": "python",
      "pygments_lexer": "ipython3",
      "version": "3.9.13"
    },
    "orig_nbformat": 4,
    "vscode": {
      "interpreter": {
        "hash": "e14287eb3e8c3f5c25b3ced007a168c47b9e249ff502873da572da074e7fa636"
      }
    }
  },
  "nbformat": 4,
  "nbformat_minor": 0
}
