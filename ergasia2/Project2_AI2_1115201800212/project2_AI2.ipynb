{
  "cells": [
    {
      "cell_type": "code",
      "source": [
        "from google.colab import drive\n",
        "drive.mount('/content/drive')"
      ],
      "metadata": {
        "colab": {
          "base_uri": "https://localhost:8080/"
        },
        "id": "jW_4444tdQJU",
        "outputId": "6273a316-fde2-4f78-f8e5-3f1410c3ee48"
      },
      "execution_count": 13,
      "outputs": [
        {
          "output_type": "stream",
          "name": "stdout",
          "text": [
            "Drive already mounted at /content/drive; to attempt to forcibly remount, call drive.mount(\"/content/drive\", force_remount=True).\n"
          ]
        }
      ]
    },
    {
      "cell_type": "code",
      "source": [
        "!wget https://nlp.stanford.edu/data/glove.twitter.27B.zip\n",
        "!unzip glove.twitter.27B.zip"
      ],
      "metadata": {
        "colab": {
          "base_uri": "https://localhost:8080/"
        },
        "id": "PK7Ayjp9MN-Q",
        "outputId": "76f1c480-32ec-41a8-e097-f2f115170ca5"
      },
      "execution_count": 14,
      "outputs": [
        {
          "output_type": "stream",
          "name": "stdout",
          "text": [
            "--2022-12-31 21:23:37--  https://nlp.stanford.edu/data/glove.twitter.27B.zip\n",
            "Resolving nlp.stanford.edu (nlp.stanford.edu)... 171.64.67.140\n",
            "Connecting to nlp.stanford.edu (nlp.stanford.edu)|171.64.67.140|:443... connected.\n",
            "HTTP request sent, awaiting response... 301 Moved Permanently\n",
            "Location: https://downloads.cs.stanford.edu/nlp/data/glove.twitter.27B.zip [following]\n",
            "--2022-12-31 21:23:37--  https://downloads.cs.stanford.edu/nlp/data/glove.twitter.27B.zip\n",
            "Resolving downloads.cs.stanford.edu (downloads.cs.stanford.edu)... 171.64.64.22\n",
            "Connecting to downloads.cs.stanford.edu (downloads.cs.stanford.edu)|171.64.64.22|:443... connected.\n",
            "HTTP request sent, awaiting response... 200 OK\n",
            "Length: 1520408563 (1.4G) [application/zip]\n",
            "Saving to: ‘glove.twitter.27B.zip’\n",
            "\n",
            "glove.twitter.27B.z 100%[===================>]   1.42G  5.87MB/s    in 5m 6s   \n",
            "\n",
            "2022-12-31 21:28:43 (4.75 MB/s) - ‘glove.twitter.27B.zip’ saved [1520408563/1520408563]\n",
            "\n",
            "Archive:  glove.twitter.27B.zip\n",
            "  inflating: glove.twitter.27B.25d.txt  \n",
            "  inflating: glove.twitter.27B.50d.txt  \n",
            "  inflating: glove.twitter.27B.100d.txt  \n",
            "  inflating: glove.twitter.27B.200d.txt  \n"
          ]
        }
      ]
    },
    {
      "cell_type": "code",
      "execution_count": 15,
      "metadata": {
        "colab": {
          "base_uri": "https://localhost:8080/"
        },
        "id": "U5bOGyHsLg1w",
        "outputId": "a3205e5a-f524-45b4-99b5-d4203eec6b9d"
      },
      "outputs": [
        {
          "output_type": "stream",
          "name": "stderr",
          "text": [
            "[nltk_data] Downloading package stopwords to /root/nltk_data...\n",
            "[nltk_data]   Package stopwords is already up-to-date!\n"
          ]
        }
      ],
      "source": [
        "import pandas as pd\n",
        "import numpy as np\n",
        "import matplotlib.pyplot as plt\n",
        "import torch\n",
        "import torch.nn as nn\n",
        "import torch.nn.functional as F\n",
        "import torch.optim as optim\n",
        "from sklearn.metrics import precision_score, recall_score, f1_score\n",
        "import nltk\n",
        "from nltk.corpus import stopwords\n",
        "\n",
        "\n",
        "inputFile = \"/content/drive/MyDrive/AI2/ergasia_1/imdb-reviews.csv\"\n",
        "\n",
        "# Insert the path of the file you want to test HERE\n",
        "testFile = None\n",
        "\n",
        "df = pd.read_csv(inputFile, sep='\\t')\n",
        "\n",
        "# Drop the first column (url)\n",
        "df = df.drop(columns=['url'])\n",
        "\n",
        "positive = 0\n",
        "negative = 0\n",
        "neutral = 0\n",
        "\n",
        "nltk.download('stopwords')\n",
        "\n",
        "\n",
        "for index, row in df.iterrows():\n",
        "    # if score is greater than 7, it is positive so change its value to 1, else 0\n",
        "    if row[\"rating\"] >= 7:\n",
        "        positive += 1\n",
        "        df.at[index, \"rating\"] = 1\n",
        "    elif row[\"rating\"] <= 4:\n",
        "        negative += 1\n",
        "        df.at[index, \"rating\"] = 0\n",
        "    else:\n",
        "        neutral += 1\n",
        "    # To Remove the stop words uncomment the below line. Does not improve accuracy\n",
        "    # df.at[index, \"review\"] = ' '.join([word for word in row[\"review\"].split() if word not in (stopwords.words('english'))])\n",
        "\n",
        "# Get the GloVe word embeddings\n",
        "gloveFile = \"glove.twitter.27B.200d.txt\"\n",
        "\n",
        "embeddings = {}\n",
        "with open(gloveFile, 'r', encoding=\"utf8\") as f:\n",
        "    for line in f:\n",
        "        values = line.split()\n",
        "        word = values[0]\n",
        "        coefs = np.asarray(values[1:], dtype='float32')\n",
        "        embeddings[word] = coefs"
      ]
    },
    {
      "cell_type": "code",
      "execution_count": 16,
      "metadata": {
        "colab": {
          "base_uri": "https://localhost:8080/"
        },
        "id": "KwWlCFbsLg16",
        "outputId": "5b6fa307-87e8-4d93-a902-0e5fb90006f7"
      },
      "outputs": [
        {
          "output_type": "stream",
          "name": "stdout",
          "text": [
            "df size:  (45008, 2)\n",
            "train size:  (36006, 2)\n",
            "test size:  (4501, 2)\n",
            "validation size:  (4501, 2)\n"
          ]
        }
      ],
      "source": [
        "# Split the data into train 80% , test 10% and validation 10% sets\n",
        "\n",
        "train = df.sample(frac=0.8, random_state=42)\n",
        "test = df.drop(train.index)\n",
        "test = test.sample(frac=0.5, random_state=42)\n",
        "validation = df.drop(train.index)\n",
        "validation = validation.drop(test.index)\n",
        "\n",
        "if testFile is not None:\n",
        "    test = pd.read_csv(testFile, sep='\\t')\n",
        "    test = test.drop(columns=['url'])\n",
        "\n",
        "# print df, train, test, validation sizes\n",
        "print(\"df size: \", df.shape)\n",
        "print(\"train size: \", train.shape)\n",
        "print(\"test size: \", test.shape)\n",
        "print(\"validation size: \", validation.shape)"
      ]
    },
    {
      "cell_type": "code",
      "execution_count": 17,
      "metadata": {
        "id": "NyUswh05Lg17"
      },
      "outputs": [],
      "source": [
        "# Get X_train, y_train, X_test, y_test, X_validation, y_validation\n",
        "X_train = train[\"review\"]\n",
        "y_train = train[\"rating\"]\n",
        "X_test = test[\"review\"]\n",
        "y_test = test[\"rating\"]\n",
        "X_validation = validation[\"review\"]\n",
        "y_validation = validation[\"rating\"]\n",
        "\n",
        "\n",
        "# Create word vectors for train, test and validation sets\n",
        "def createWordVectors(data):\n",
        "  wordVectors = [];\n",
        "  for row in data:\n",
        "    sum = np.zeros(len(embeddings[\"hello\"]));\n",
        "    word_count = 0;\n",
        "    for word in row.split():\n",
        "      if word in embeddings:\n",
        "        sum = sum + embeddings[word];\n",
        "        word_count = word_count+1;\n",
        "    if word_count != 0:\n",
        "      wordVectors.append(sum/word_count);\n",
        "    else:\n",
        "      wordVectors.append(np.zeros(len(embeddings[\"hello\"])))\n",
        "\n",
        "  wordVectors = np.array(wordVectors, dtype=np.float32)\n",
        "  return wordVectors\n",
        "\n",
        "\n",
        "X_train = createWordVectors(X_train)\n",
        "X_test = createWordVectors(X_test)\n",
        "X_validation = createWordVectors(X_validation)\n",
        "\n",
        "# Convert the word vectors from ndarrays to tensors\n",
        "X_train = torch.tensor(X_train, dtype=torch.float)\n",
        "X_test = torch.tensor(X_test, dtype=torch.float)\n",
        "X_validation = torch.tensor(X_validation, dtype=torch.float)\n",
        "\n",
        "# Convert the labels to tensors\n",
        "y_train = torch.tensor(y_train.values, dtype=torch.float)\n",
        "y_test = torch.tensor(y_test.values, dtype=torch.float)\n",
        "y_validation = torch.tensor(y_validation.values, dtype=torch.float)\n"
      ]
    },
    {
      "cell_type": "code",
      "execution_count": 18,
      "metadata": {
        "id": "FkTWyQrhLg19"
      },
      "outputs": [],
      "source": [
        "class Net(nn.Module):\n",
        "    def __init__(self, D_in, H1, H2, H3, D_out):\n",
        "        super(Net, self).__init__()\n",
        "        \n",
        "        self.linear1 = nn.Linear(D_in, H1)\n",
        "        self.linear2 = nn.Linear(H1, H2)\n",
        "        self.linear3 = nn.Linear(H2, H3)\n",
        "        self.linear4 = nn.Linear(H3, D_out)\n",
        "        # self.softmax = nn.Softmax(dim=D_out)\n",
        "\n",
        "        \n",
        "    def forward(self, x):\n",
        "        # If dropout is activated consider increasing the size of each hidden layer\n",
        "\n",
        "        h1 = self.linear1(x)\n",
        "        # h1 = F.selu(h1)\n",
        "        # h1 = F.torch.sigmoid(h1)\n",
        "        # h1 = F.elu(h1)\n",
        "        h1 = F.relu(h1)\n",
        "        # h1 = F.dropout(h1, p=0.5, training=self.training)\n",
        "\n",
        "        h2 = self.linear2(h1)\n",
        "        # h2 = F.selu(h2)\n",
        "        # h2 = F.torch.sigmoid(h2)\n",
        "        # h2 = F.elu(h2)\n",
        "        h2 = F.relu(h2)\n",
        "        # h2 = F.dropout(h2, p=0.5, training=self.training)\n",
        "\n",
        "        h3 = self.linear3(h2)\n",
        "        # h3 = F.selu(h3)\n",
        "        # h3 = F.torch.sigmoid(h3)\n",
        "        # h3 = F.elu(h3)\n",
        "        h3 = F.relu(h3)\n",
        "        # h3 = F.dropout(h3, p=0.5, training=self.training)\n",
        "\n",
        "        out = self.linear4(h3)\n",
        "\n",
        "        return out"
      ]
    },
    {
      "cell_type": "markdown",
      "metadata": {
        "id": "-MyYf8AELg1_"
      },
      "source": [
        "# HYPERPARAMETERS"
      ]
    },
    {
      "cell_type": "code",
      "execution_count": 19,
      "metadata": {
        "id": "Ocq61A5nLg2B"
      },
      "outputs": [],
      "source": [
        "# Define layer sizes\n",
        "D_in = X_train.shape[1]\n",
        "H1 = 200\n",
        "H2 = 100\n",
        "H3 = 50\n",
        "D_out = 1\n",
        "\n",
        "# Define hyperparameters\n",
        "learning_rate = 2e-5\n",
        "\n",
        "#Initialize model, loss, optimizer\n",
        "model = Net(D_in, H1, H2, H3, D_out)\n",
        "loss_func = nn.MSELoss(reduction='sum')\n",
        "# loss_func = nn.MSELoss(reduction='mean')\n",
        "# loss_func = nn.L1Loss(reduction='sum')\n",
        "# loss_func = nn.CrossEntropyLoss()\n",
        "# loss_func = nn.NLLLoss()\n",
        "# optimizer = torch.optim.SGD(model.parameters(), lr=learning_rate)        # Bad results, not comparable to other optimizers\n",
        "optimizer = torch.optim.NAdam(model.parameters(), lr=learning_rate)        # lr = 2e-5, batch_size = 16, 50 epochs\n",
        "# optimizer = torch.optim.Adamax(model.parameters(), lr=learning_rate)     # lr = 5e-5, batch_size = 8, 60 epochs OR lr = 6e-5, batch_size = 128, 200 epochs\n",
        "# optimizer = torch.optim.RAdam(model.parameters(), lr=learning_rate)      # lr = 1e-4, batch_size = 32, 100 epochs\n",
        "# optimizer = torch.optim.Adagrad(model.parameters(), lr=learning_rate)    # lr = 1e-4, batch_size = 64, 100 epochs\n",
        "# optimizer = torch.optim.Adadelta(model.parameters(), lr=learning_rate)   # lr = 1e-2, batch_size = 64, 100 epochs\n",
        "# optimizer = torch.optim.AdamW(model.parameters(), lr=learning_rate)      # lr = 2e-5, batch_size = 64, 100 epochs\n",
        "# optimizer = torch.optim.Adam(model.parameters(), lr=learning_rate)       # lr = 3e-5, batch_size = 32, 100 epochs\n",
        "# optimizer = torch.optim.ASGD(model.parameters(), lr=learning_rate)       # lr = 3e-4, batch_size = 128, 100 epochs, very choppy learning curve\n",
        "\n",
        "\n",
        "# Initialize dataloader\n",
        "dataset = torch.utils.data.TensorDataset(X_train, y_train)\n",
        "dataloader = torch.utils.data.DataLoader(dataset, batch_size=16, shuffle=True)"
      ]
    },
    {
      "cell_type": "code",
      "execution_count": 20,
      "metadata": {
        "id": "jWJvA2E1Lg2D"
      },
      "outputs": [],
      "source": [
        "# Train the model\n",
        "epochs = 50\n",
        "\n",
        "train_loss = []\n",
        "val_loss = []\n",
        "\n",
        "for epoch in range(epochs):\n",
        "  batch_losses = []\n",
        "\n",
        "  for x_batch, y_batch in dataloader:\n",
        "    y_pred = model(x_batch)\n",
        "    y_batch = y_batch.unsqueeze(-1)\n",
        "\n",
        "    \n",
        "    loss = loss_func(y_pred, y_batch)\n",
        "    batch_losses.append(loss.item())\n",
        "    \n",
        "    # Delete previously stored gradients\n",
        "    optimizer.zero_grad()\n",
        "    # Perform backpropagation starting from the loss calculated in this epoch\n",
        "    loss.backward()\n",
        "    # Update model's weights based on the gradients calculated during backprop\n",
        "    optimizer.step()\n",
        "  \n",
        "  with torch.no_grad():\n",
        "    Y_train_pred = model(X_train);\n",
        "    loss_train = loss_func(Y_train_pred, y_train.unsqueeze(-1))/Y_train_pred.shape[0]\n",
        "    train_loss.append(loss_train.item());\n",
        "    Y_val_pred = model(X_validation);\n",
        "    loss_val = loss_func(Y_val_pred, y_validation.unsqueeze(-1))/Y_val_pred.shape[0]\n",
        "    val_loss.append(loss_val.item());"
      ]
    },
    {
      "cell_type": "code",
      "execution_count": 21,
      "metadata": {
        "colab": {
          "base_uri": "https://localhost:8080/",
          "height": 265
        },
        "id": "-hXIfd7dLg2G",
        "outputId": "62572954-be76-45da-c334-92ec304dbce0"
      },
      "outputs": [
        {
          "output_type": "display_data",
          "data": {
            "text/plain": [
              "<Figure size 432x288 with 1 Axes>"
            ],
            "image/png": "[encoded data removed]"
          },
          "metadata": {
            "needs_background": "light"
          }
        }
      ],
      "source": [
        "# Plot the learning curves for train and validation sets\n",
        "plt.plot(train_loss, label='train')\n",
        "plt.plot(val_loss, label='validation')\n",
        "plt.legend()\n",
        "plt.show()\n"
      ]
    },
    {
      "cell_type": "code",
      "execution_count": 22,
      "metadata": {
        "colab": {
          "base_uri": "https://localhost:8080/"
        },
        "id": "JtNHME3hLg2G",
        "outputId": "e68b8752-cf2a-4cea-f913-09db172606dd"
      },
      "outputs": [
        {
          "output_type": "stream",
          "name": "stdout",
          "text": [
            "Train      --> Precision: 0.828, Recall: 0.847, F1: 0.837\n",
            "Validation --> Precision: 0.822, Recall: 0.833, F1: 0.828\n",
            "Test       --> Precision: 0.834, Recall: 0.837, F1: 0.836\n"
          ]
        }
      ],
      "source": [
        "# Calculate the precision, recall and f1 score\n",
        "def calculate_metrics(y_true, y_pred):\n",
        "    y_true = y_true.detach().numpy()\n",
        "    y_pred = y_pred.detach().numpy()\n",
        "    y_pred = np.where(y_pred > 0.5, 1, 0)\n",
        "    precision = precision_score(y_true, y_pred)\n",
        "    recall = recall_score(y_true, y_pred)\n",
        "    f1 = f1_score(y_true, y_pred)\n",
        "    return precision, recall, f1\n",
        "\n",
        "# Print the metrics for the train, test and validation sets\n",
        "def print_metrics(y_true, y_pred, title):\n",
        "    precision, recall, f1 = calculate_metrics(y_true, y_pred)\n",
        "    print(f\"{title:10} --> Precision: {precision:.3f}, Recall: {recall:.3f}, F1: {f1:.3f}\")\n",
        "\n",
        "# Print the metrics for the train set\n",
        "y_pred = model(X_train)\n",
        "print_metrics(y_train, y_pred, \"Train\")\n",
        "\n",
        "# Print the metrics for the validation set\n",
        "y_pred = model(X_validation)\n",
        "print_metrics(y_validation, y_pred, \"Validation\")\n",
        "\n",
        "# Print the metrics for the test set\n",
        "y_pred = model(X_test)\n",
        "print_metrics(y_test, y_pred, \"Test\")\n"
      ]
    },
    {
      "cell_type": "code",
      "execution_count": 23,
      "metadata": {
        "colab": {
          "base_uri": "https://localhost:8080/",
          "height": 279
        },
        "id": "o-sVF8c-Lg2I",
        "outputId": "37d4c92d-4301-4160-b657-91af374a1858"
      },
      "outputs": [
        {
          "output_type": "display_data",
          "data": {
            "text/plain": [
              "<Figure size 432x288 with 1 Axes>"
            ],
            "image/png": "[encoded data removed]"
          },
          "metadata": {
            "needs_background": "light"
          }
        }
      ],
      "source": [
        "# Print ROC curves for train, test and validation sets on the same plot\n",
        "\n",
        "from sklearn.metrics import roc_curve, auc\n",
        "\n",
        "def plot_roc_curve(y_true, y_pred, title, color):\n",
        "    fpr, tpr, _ = roc_curve(y_true.detach(), y_pred.detach())\n",
        "    plt.plot(fpr, tpr, label=f\"ROC curve for {title} set (area = {auc(fpr, tpr):.3f})\", color=color)\n",
        "    plt.plot([0, 1], [0, 1], 'k--') \n",
        "    plt.xlabel('False Positive Rate')\n",
        "    plt.ylabel('True Positive Rate')\n",
        "    plt.legend(loc=\"lower right\")\n",
        "\n",
        "# Plot the ROC curve for the train set\n",
        "y_pred = model(X_train)\n",
        "plot_roc_curve(y_train, y_pred, \"Train\", \"royalblue\")\n",
        "\n",
        "# Plot the ROC curve for the test set\n",
        "y_pred = model(X_test)\n",
        "plot_roc_curve(y_test, y_pred, \"Test\", \"darkorange\")\n",
        "\n",
        "# Plot the ROC curve for the validation set\n",
        "y_pred = model(X_validation)\n",
        "plot_roc_curve(y_validation, y_pred, \"Validation\", \"seagreen\")\n",
        "\n",
        "plt.show()"
      ]
    }
  ],
  "metadata": {
    "kernelspec": {
      "display_name": "AI2",
      "language": "python",
      "name": "python3"
    },
    "language_info": {
      "codemirror_mode": {
        "name": "ipython",
        "version": 3
      },
      "file_extension": ".py",
      "mimetype": "text/x-python",
      "name": "python",
      "nbconvert_exporter": "python",
      "pygments_lexer": "ipython3",
      "version": "3.9.13"
    },
    "orig_nbformat": 4,
    "vscode": {
      "interpreter": {
        "hash": "e14287eb3e8c3f5c25b3ced007a168c47b9e249ff502873da572da074e7fa636"
      }
    },
    "colab": {
      "provenance": []
    },
    "accelerator": "GPU",
    "gpuClass": "standard"
  },
  "nbformat": 4,
  "nbformat_minor": 0
}