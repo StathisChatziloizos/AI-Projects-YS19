{
 "cells": [
  {
   "cell_type": "code",
   "execution_count": 60,
   "metadata": {},
   "outputs": [],
   "source": [
    "# create a neural network using pytorch with back propagation. The inputs are GloVe word embeddings and the output is the sentiment of the review (positive 1, negative -1)\n",
    "# The hyperparameters are:\n",
    "# the number of hidden layers, the number of neurons in each layer, the learning rate, the optimizer, the batch size, the activation function, the number of epochs\n",
    "# The classifier is evaluated using precisionm recall and f1 score metrics from sklearn.metrics\n",
    "\n",
    "# Path: project2.ipynb\n",
    "import pandas as pd\n",
    "import numpy as np\n",
    "import matplotlib.pyplot as plt\n",
    "import torch\n",
    "import torch.nn as nn\n",
    "import torch.nn.functional as F\n",
    "import torch.optim as optim\n",
    "from sklearn.metrics import precision_score, recall_score, f1_score\n",
    "\n",
    "inputFile = \"../ergasia_1/imdb-reviews.csv\"\n",
    "\n",
    "df = pd.read_csv(inputFile, sep='\\t')\n",
    "\n",
    "positive = 0\n",
    "negative = 0\n",
    "neutral = 0\n",
    "\n",
    "for index, row in df.iterrows():\n",
    "    # if score is greater than 7, it is positive so change its value to 1, else -1\n",
    "    if row[\"rating\"] >= 7:\n",
    "        positive += 1\n",
    "        df.at[index, \"rating\"] = 1\n",
    "    elif row[\"rating\"] <= 4:\n",
    "        negative += 1\n",
    "        df.at[index, \"rating\"] = 0\n",
    "    else:\n",
    "        neutral += 1\n",
    "\n",
    "# Get the GloVe word embeddings\n",
    "gloveFile = \"../glove.6B.50d.txt\"\n",
    "\n",
    "embeddings = {}\n",
    "with open(gloveFile, 'r', encoding=\"utf8\") as f:\n",
    "    for line in f:\n",
    "        values = line.split()\n",
    "        word = values[0]\n",
    "        coefs = np.asarray(values[1:], dtype='float32')\n",
    "        embeddings[word] = coefs"
   ]
  },
  {
   "cell_type": "code",
   "execution_count": 61,
   "metadata": {},
   "outputs": [],
   "source": [
    "# Drop the first column (url)\n",
    "df = df.drop(columns=['url'])"
   ]
  },
  {
   "cell_type": "code",
   "execution_count": 62,
   "metadata": {},
   "outputs": [
    {
     "name": "stdout",
     "output_type": "stream",
     "text": [
      "df size:  (45008, 2)\n",
      "train size:  (36006, 2)\n",
      "test size:  (6752, 2)\n",
      "validation size:  (2250, 2)\n"
     ]
    }
   ],
   "source": [
    "# Split the data into train 80% , test 15% and validation 5% sets\n",
    "\n",
    "train = df.sample(frac=0.8, random_state=42)\n",
    "test = df.drop(train.index)\n",
    "test = test.sample(frac=0.75, random_state=42)\n",
    "validation = df.drop(train.index)\n",
    "validation = validation.drop(test.index)\n",
    "\n",
    "# print df, train, test, validation sizes\n",
    "print(\"df size: \", df.shape)\n",
    "print(\"train size: \", train.shape)\n",
    "print(\"test size: \", test.shape)\n",
    "print(\"validation size: \", validation.shape)\n",
    "\n"
   ]
  },
  {
   "cell_type": "code",
   "execution_count": 63,
   "metadata": {},
   "outputs": [],
   "source": [
    "# Get X_train, y_train, X_test, y_test, X_validation, y_validation\n",
    "X_train = train[\"review\"]\n",
    "y_train = train[\"rating\"]\n",
    "X_test = test[\"review\"]\n",
    "y_test = test[\"rating\"]\n",
    "X_validation = validation[\"review\"]\n",
    "y_validation = validation[\"rating\"]\n",
    "\n",
    "\n",
    "# Create word vectors for train, test and validation sets\n",
    "def createWordVectors(data):\n",
    "  wordVectors = [];\n",
    "  for row in data:\n",
    "    sum = np.zeros(len(embeddings[\"hello\"]));\n",
    "    word_count = 0;\n",
    "    for word in row.split():\n",
    "      if word in embeddings:\n",
    "        sum = sum + embeddings[word];\n",
    "        word_count = word_count+1;\n",
    "    if word_count != 0:\n",
    "      wordVectors.append(sum/word_count);\n",
    "    else:\n",
    "      wordVectors.append(np.zeros(len(embeddings[\"hello\"])))\n",
    "\n",
    "  wordVectors = np.array(wordVectors, dtype=np.float32)\n",
    "  return wordVectors\n",
    "\n",
    "\n",
    "X_train = createWordVectors(X_train)\n",
    "X_test = createWordVectors(X_test)\n",
    "X_validation = createWordVectors(X_validation)\n",
    "\n",
    "# Convert the word vectors from ndarrays to tensors\n",
    "X_train = torch.tensor(X_train, dtype=torch.float)\n",
    "X_test = torch.tensor(X_test, dtype=torch.float)\n",
    "X_validation = torch.tensor(X_validation, dtype=torch.float)\n",
    "\n",
    "# Convert the labels to tensors\n",
    "y_train = torch.tensor(y_train.values, dtype=torch.float)\n",
    "y_test = torch.tensor(y_test.values, dtype=torch.float)\n",
    "y_validation = torch.tensor(y_validation.values, dtype=torch.float)\n"
   ]
  },
  {
   "cell_type": "code",
   "execution_count": 64,
   "metadata": {},
   "outputs": [
    {
     "name": "stdout",
     "output_type": "stream",
     "text": [
      "<class 'torch.Tensor'>\n",
      "50\n",
      "tensor([ 3.7765e-01,  6.6619e-02, -3.5248e-03, -9.7917e-02,  3.9351e-01,\n",
      "         2.1771e-01, -3.9907e-01, -1.4590e-01, -1.0825e-01, -5.3909e-02,\n",
      "         5.6775e-02,  1.0920e-01, -3.2669e-01,  1.8710e-02,  3.7288e-01,\n",
      "         1.9481e-01,  1.2883e-01,  8.5764e-02, -3.8893e-01, -3.4060e-01,\n",
      "         4.9719e-02,  1.3341e-01,  1.5396e-01,  5.7593e-03,  1.5249e-01,\n",
      "        -1.6376e+00, -4.3218e-01,  6.0406e-02,  2.1594e-01, -2.8825e-01,\n",
      "         3.1539e+00,  4.8581e-04, -2.8266e-01, -3.6237e-01,  3.8935e-02,\n",
      "         3.9828e-02,  7.1943e-02,  7.2923e-02,  3.3557e-02, -1.8043e-01,\n",
      "        -1.5245e-01,  8.0433e-02, -2.6393e-03,  1.2572e-01, -2.2261e-04,\n",
      "         5.6212e-02, -1.1243e-01, -1.6606e-01, -2.6841e-02, -9.8762e-02])\n",
      "<class 'torch.Tensor'>\n",
      "torch.Size([])\n",
      "tensor(0.)\n"
     ]
    }
   ],
   "source": [
    "#Print X_train type, the first element and its shape\n",
    "print(type(X_train))\n",
    "print(X_train.shape[1])\n",
    "print(X_train[0])\n",
    "\n",
    "#Print y_train type, the first element and its shape\n",
    "print(type(y_train))\n",
    "print(y_train[0].shape)\n",
    "print(y_train[0])"
   ]
  },
  {
   "cell_type": "code",
   "execution_count": 65,
   "metadata": {},
   "outputs": [],
   "source": [
    "class Net(nn.Module):\n",
    "    def __init__(self, D_in, H1, H2, D_out):\n",
    "        super(Net, self).__init__()\n",
    "        \n",
    "        self.linear1 = nn.Linear(D_in, H1)\n",
    "        self.linear2 = nn.Linear(H1, H2)\n",
    "        self.linear3 = nn.Linear(H2, D_out)\n",
    "        # self.softmax = nn.Softmax(dim=D_out)\n",
    "\n",
    "        \n",
    "    def forward(self, x):\n",
    "        h1 = self.linear1(x)\n",
    "        h1 = F.relu(h1)\n",
    "\n",
    "        h2 = self.linear2(h1)\n",
    "        h2 = F.relu(h2)\n",
    "\n",
    "        out = self.linear3(h2)\n",
    "\n",
    "        return out"
   ]
  },
  {
   "cell_type": "code",
   "execution_count": 66,
   "metadata": {},
   "outputs": [],
   "source": [
    "# Define layer sizes\n",
    "D_in = X_train.shape[1]\n",
    "H1 = 100\n",
    "H2 = 50\n",
    "D_out = 1\n",
    "\n",
    "# Define hyperparameters\n",
    "learning_rate = 1e-4\n",
    "\n",
    "#Initialize model, loss, optimizer\n",
    "model = Net(D_in, H1, H2, D_out)\n",
    "loss_func = nn.MSELoss(reduction='sum')\n",
    "# loss_func = nn.MSELoss(reduction='mean')\n",
    "# optimizer = torch.optim.SGD(model.parameters(), lr=learning_rate)\n",
    "optimizer = torch.optim.RAdam(model.parameters(), lr=learning_rate)\n",
    "\n",
    "\n",
    "# Initialize dataloader\n",
    "dataset = torch.utils.data.TensorDataset(X_train, y_train)\n",
    "dataloader = torch.utils.data.DataLoader(dataset, batch_size=64, shuffle=True)"
   ]
  },
  {
   "cell_type": "code",
   "execution_count": 67,
   "metadata": {},
   "outputs": [
    {
     "data": {
      "text/plain": [
       "Net(\n",
       "  (linear1): Linear(in_features=50, out_features=100, bias=True)\n",
       "  (linear2): Linear(in_features=100, out_features=50, bias=True)\n",
       "  (linear3): Linear(in_features=50, out_features=1, bias=True)\n",
       ")"
      ]
     },
     "execution_count": 67,
     "metadata": {},
     "output_type": "execute_result"
    }
   ],
   "source": [
    "model"
   ]
  },
  {
   "cell_type": "code",
   "execution_count": 68,
   "metadata": {},
   "outputs": [
    {
     "name": "stdout",
     "output_type": "stream",
     "text": [
      "Epoch   0: Loss = 20.83786\n",
      "Epoch   1: Loss = 15.42845\n",
      "Epoch   2: Loss = 14.19951\n",
      "Epoch   3: Loss = 12.78420\n",
      "Epoch   4: Loss = 11.90126\n",
      "Epoch   5: Loss = 11.46516\n",
      "Epoch   6: Loss = 11.23163\n",
      "Epoch   7: Loss = 11.09017\n",
      "Epoch   8: Loss = 10.96165\n",
      "Epoch   9: Loss = 10.85776\n",
      "Epoch  10: Loss = 10.76562\n",
      "Epoch  11: Loss = 10.68438\n",
      "Epoch  12: Loss = 10.62681\n",
      "Epoch  13: Loss = 10.56357\n",
      "Epoch  14: Loss = 10.53877\n",
      "Epoch  15: Loss = 10.47627\n",
      "Epoch  16: Loss = 10.46784\n",
      "Epoch  17: Loss = 10.42724\n",
      "Epoch  18: Loss = 10.40036\n",
      "Epoch  19: Loss = 10.36888\n",
      "Epoch  20: Loss = 10.34338\n",
      "Epoch  21: Loss = 10.32363\n",
      "Epoch  22: Loss = 10.31246\n",
      "Epoch  23: Loss = 10.28706\n",
      "Epoch  24: Loss = 10.26520\n",
      "Epoch  25: Loss = 10.24607\n",
      "Epoch  26: Loss = 10.22562\n",
      "Epoch  27: Loss = 10.20953\n",
      "Epoch  28: Loss = 10.20042\n",
      "Epoch  29: Loss = 10.19090\n",
      "Epoch  30: Loss = 10.15945\n",
      "Epoch  31: Loss = 10.16845\n",
      "Epoch  32: Loss = 10.14250\n",
      "Epoch  33: Loss = 10.13194\n",
      "Epoch  34: Loss = 10.11630\n",
      "Epoch  35: Loss = 10.12279\n",
      "Epoch  36: Loss = 10.08873\n",
      "Epoch  37: Loss = 10.07949\n",
      "Epoch  38: Loss = 10.06734\n",
      "Epoch  39: Loss = 10.07677\n",
      "Epoch  40: Loss = 10.06488\n",
      "Epoch  41: Loss = 10.04590\n",
      "Epoch  42: Loss = 10.02694\n",
      "Epoch  43: Loss = 10.00827\n",
      "Epoch  44: Loss = 10.04165\n",
      "Epoch  45: Loss = 10.00718\n",
      "Epoch  46: Loss = 9.99067\n",
      "Epoch  47: Loss = 9.98444\n",
      "Epoch  48: Loss = 9.97577\n",
      "Epoch  49: Loss = 9.97176\n",
      "Epoch  50: Loss = 9.97187\n",
      "Epoch  51: Loss = 9.95330\n",
      "Epoch  52: Loss = 9.94758\n",
      "Epoch  53: Loss = 9.93872\n",
      "Epoch  54: Loss = 9.93005\n",
      "Epoch  55: Loss = 9.91553\n",
      "Epoch  56: Loss = 9.91223\n",
      "Epoch  57: Loss = 9.89428\n",
      "Epoch  58: Loss = 9.89873\n",
      "Epoch  59: Loss = 9.90277\n",
      "Epoch  60: Loss = 9.88693\n",
      "Epoch  61: Loss = 9.87889\n",
      "Epoch  62: Loss = 9.86071\n",
      "Epoch  63: Loss = 9.85950\n",
      "Epoch  64: Loss = 9.84593\n",
      "Epoch  65: Loss = 9.84138\n",
      "Epoch  66: Loss = 9.83415\n",
      "Epoch  67: Loss = 9.82861\n",
      "Epoch  68: Loss = 9.83660\n",
      "Epoch  69: Loss = 9.79361\n",
      "Epoch  70: Loss = 9.80949\n",
      "Epoch  71: Loss = 9.79114\n",
      "Epoch  72: Loss = 9.78477\n",
      "Epoch  73: Loss = 9.78775\n",
      "Epoch  74: Loss = 9.77790\n",
      "Epoch  75: Loss = 9.77106\n",
      "Epoch  76: Loss = 9.76210\n",
      "Epoch  77: Loss = 9.76038\n",
      "Epoch  78: Loss = 9.75570\n",
      "Epoch  79: Loss = 9.75666\n",
      "Epoch  80: Loss = 9.73540\n",
      "Epoch  81: Loss = 9.72434\n",
      "Epoch  82: Loss = 9.73408\n",
      "Epoch  83: Loss = 9.72487\n",
      "Epoch  84: Loss = 9.70826\n",
      "Epoch  85: Loss = 9.70616\n",
      "Epoch  86: Loss = 9.70592\n",
      "Epoch  87: Loss = 9.69029\n",
      "Epoch  88: Loss = 9.69915\n",
      "Epoch  89: Loss = 9.68306\n",
      "Epoch  90: Loss = 9.68628\n",
      "Epoch  91: Loss = 9.66138\n",
      "Epoch  92: Loss = 9.67144\n",
      "Epoch  93: Loss = 9.66480\n",
      "Epoch  94: Loss = 9.64852\n",
      "Epoch  95: Loss = 9.64990\n",
      "Epoch  96: Loss = 9.65481\n",
      "Epoch  97: Loss = 9.64990\n",
      "Epoch  98: Loss = 9.62424\n",
      "Epoch  99: Loss = 9.64100\n"
     ]
    }
   ],
   "source": [
    "# Train the model\n",
    "epochs = 100\n",
    "\n",
    "train_loss = []\n",
    "val_loss = []\n",
    "\n",
    "for epoch in range(epochs):\n",
    "  batch_losses = []\n",
    "\n",
    "  for x_batch, y_batch in dataloader:\n",
    "    y_pred = model(x_batch)\n",
    "    y_batch = y_batch.unsqueeze(-1)\n",
    "\n",
    "    # print(y_pred.shape)\n",
    "    # print(y_batch.shape)\n",
    "\n",
    "    \n",
    "    loss = loss_func(y_pred, y_batch)\n",
    "    batch_losses.append(loss.item())\n",
    "    \n",
    "    # Delete previously stored gradients\n",
    "    optimizer.zero_grad()\n",
    "    # Perform backpropagation starting from the loss calculated in this epoch\n",
    "    loss.backward()\n",
    "    # Update model's weights based on the gradients calculated during backprop\n",
    "    optimizer.step()\n",
    "  \n",
    "  with torch.no_grad():\n",
    "    Y_train_pred = model(X_train);\n",
    "    loss_train = loss_func(Y_train_pred, y_train.unsqueeze(-1))/Y_train_pred.shape[0]\n",
    "    train_loss.append(loss_train.item());\n",
    "    y_val_pred = model(X_validation);\n",
    "    loss_val = loss_func(y_val_pred, y_validation.unsqueeze(-1))/y_val_pred.shape[0]\n",
    "    val_loss.append(loss_val.item());\n",
    "  \n",
    "\n",
    "  \n",
    "  print(f\"Epoch {epoch:3}: Loss = {sum(batch_losses)/len(dataloader):.5f}\")\n"
   ]
  },
  {
   "cell_type": "code",
   "execution_count": 69,
   "metadata": {},
   "outputs": [
    {
     "data": {
      "image/png": "[encoded data removed]",
      "text/plain": [
       "<Figure size 640x480 with 1 Axes>"
      ]
     },
     "metadata": {},
     "output_type": "display_data"
    }
   ],
   "source": [
    "# Plot the learning curves for train and validation sets\n",
    "plt.plot(train_loss, label='train')\n",
    "plt.plot(val_loss, label='validation')\n",
    "plt.legend()\n",
    "plt.show()\n"
   ]
  },
  {
   "cell_type": "code",
   "execution_count": 79,
   "metadata": {},
   "outputs": [
    {
     "name": "stdout",
     "output_type": "stream",
     "text": [
      "Train      --> Precision: 0.800, Recall: 0.749, F1: 0.774\n",
      "Test       --> Precision: 0.802, Recall: 0.744, F1: 0.772\n",
      "Validation --> Precision: 0.799, Recall: 0.746, F1: 0.771\n"
     ]
    }
   ],
   "source": [
    "# Calculate the precision, recall and f1 score\n",
    "def calculate_metrics(y_true, y_pred):\n",
    "    y_true = y_true.detach().numpy()\n",
    "    y_pred = y_pred.detach().numpy()\n",
    "    y_pred = np.where(y_pred > 0.5, 1, 0)\n",
    "    precision = precision_score(y_true, y_pred)\n",
    "    recall = recall_score(y_true, y_pred)\n",
    "    f1 = f1_score(y_true, y_pred)\n",
    "    return precision, recall, f1\n",
    "\n",
    "# Print the metrics for the train, test and validation sets\n",
    "def print_metrics(y_true, y_pred, title):\n",
    "    precision, recall, f1 = calculate_metrics(y_true, y_pred)\n",
    "    print(f\"{title:10} --> Precision: {precision:.3f}, Recall: {recall:.3f}, F1: {f1:.3f}\")\n",
    "\n",
    "# Print the metrics for the train set\n",
    "y_pred = model(X_train)\n",
    "print_metrics(y_train, y_pred, \"Train\")\n",
    "\n",
    "# Print the metrics for the test set\n",
    "y_pred = model(X_test)\n",
    "print_metrics(y_test, y_pred, \"Test\")\n",
    "\n",
    "# Print the metrics for the validation set\n",
    "y_pred = model(X_validation)\n",
    "print_metrics(y_validation, y_pred, \"Validation\")\n"
   ]
  },
  {
   "cell_type": "code",
   "execution_count": 82,
   "metadata": {},
   "outputs": [
    {
     "data": {
      "image/png": "[encoded data removed]",
      "text/plain": [
       "<Figure size 640x480 with 1 Axes>"
      ]
     },
     "metadata": {},
     "output_type": "display_data"
    }
   ],
   "source": [
    "# Print ROC curves for train, test and validation sets on the same plot\n",
    "\n",
    "from sklearn.metrics import roc_curve, auc\n",
    "\n",
    "def plot_roc_curve(y_true, y_pred, title):\n",
    "    fpr, tpr, _ = roc_curve(y_true.detach(), y_pred.detach())\n",
    "    plt.plot(fpr, tpr, label=f\"ROC curve for {title} set (area = {auc(fpr, tpr):.3f})\")\n",
    "    plt.plot([0, 1], [0, 1], 'k--')\n",
    "    plt.xlabel('False Positive Rate')\n",
    "    plt.ylabel('True Positive Rate')\n",
    "    plt.legend(loc=\"lower right\")\n",
    "\n",
    "# Plot the ROC curve for the train set\n",
    "y_pred = model(X_train)\n",
    "plot_roc_curve(y_train, y_pred, \"Train\")\n",
    "\n",
    "# Plot the ROC curve for the test set\n",
    "y_pred = model(X_test)\n",
    "plot_roc_curve(y_test, y_pred, \"Test\")\n",
    "\n",
    "# Plot the ROC curve for the validation set\n",
    "y_pred = model(X_validation)\n",
    "plot_roc_curve(y_validation, y_pred, \"Validation\")\n",
    "\n",
    "plt.show()"
   ]
  }
 ],
 "metadata": {
  "kernelspec": {
   "display_name": "AI2",
   "language": "python",
   "name": "python3"
  },
  "language_info": {
   "codemirror_mode": {
    "name": "ipython",
    "version": 3
   },
   "file_extension": ".py",
   "mimetype": "text/x-python",
   "name": "python",
   "nbconvert_exporter": "python",
   "pygments_lexer": "ipython3",
   "version": "3.9.13"
  },
  "orig_nbformat": 4,
  "vscode": {
   "interpreter": {
    "hash": "e14287eb3e8c3f5c25b3ced007a168c47b9e249ff502873da572da074e7fa636"
   }
  }
 },
 "nbformat": 4,
 "nbformat_minor": 2
}
