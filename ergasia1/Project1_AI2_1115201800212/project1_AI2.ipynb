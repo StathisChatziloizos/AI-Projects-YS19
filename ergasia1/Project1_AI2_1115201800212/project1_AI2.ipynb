{
  "cells": [
    {
      "cell_type": "code",
      "source": [
        "# from google.colab import drive\n",
        "# drive.mount('/content/drive')"
      ],
      "metadata": {
        "id": "79HXKzqXN9Xg"
      },
      "execution_count": 11,
      "outputs": []
    },
    {
      "cell_type": "code",
      "execution_count": 12,
      "metadata": {
        "colab": {
          "base_uri": "https://localhost:8080/"
        },
        "id": "gNIjA3xRNzwG",
        "outputId": "92e1dccc-893e-442f-82ce-32a373e01aea"
      },
      "outputs": [
        {
          "output_type": "stream",
          "name": "stdout",
          "text": [
            "Positive:  22508\n",
            "Negative:  22500\n",
            "Neutral:  0\n"
          ]
        }
      ],
      "source": [
        "# Sentiment classifier using logistic regression and evaluation using precision, recall and F-measure\n",
        "import numpy as np\n",
        "import pandas as pd\n",
        "from sklearn.feature_extraction.text import CountVectorizer\n",
        "from sklearn.linear_model import LogisticRegression\n",
        "from sklearn.model_selection import train_test_split\n",
        "from sklearn.metrics import precision_score, recall_score, f1_score\n",
        "\n",
        "inputPath = \"/content/drive/MyDrive/AI2/ergasia_1/imdb-reviews.csv\"\n",
        "\n",
        "\n",
        "# The flag is used to signify the presence of a seperate test file\n",
        "flag = 0\n",
        "\n",
        "# Read the training csv file\n",
        "df = pd.read_csv(inputPath, sep='\\t')\n",
        "test = 0\n",
        "\n",
        "\n",
        "positive = 0\n",
        "negative = 0\n",
        "neutral = 0 \n",
        "\n",
        "for index, row in df.iterrows():\n",
        "    # if score is greater than 7, it is positive so change its value to 1, else -1\n",
        "    if row[\"rating\"] >= 7:\n",
        "        positive += 1\n",
        "        df.at[index, \"rating\"] = 1\n",
        "    elif row[\"rating\"] <= 4:\n",
        "        negative += 1\n",
        "        df.at[index, \"rating\"] = -1\n",
        "    else:\n",
        "        neutral += 1\n",
        "\n",
        "# # ---- UNCOMMENT THIS TO ADD A TEST DATA SET ----\n",
        "\n",
        "# # Read the test csv file\n",
        "# test_inputPath = \"test.csv\"  # PUT YOUR TEST FILE NAME HERE\n",
        "# test = pd.read_csv(\"test_inputPath\", sep='\\t')\n",
        "# flag = 1\n",
        "\n",
        "\n",
        "# for index, row in test.iterrows():\n",
        "#     # if score is greater than 7, it is positive so change its value to 1, else -1\n",
        "#     if row[\"rating\"] >= 7:\n",
        "#         positive += 1\n",
        "#         test.at[index, \"rating\"] = 1\n",
        "#     elif row[\"rating\"] <= 4:\n",
        "#         negative += 1\n",
        "#         test.at[index, \"rating\"] = -1\n",
        "#     else:\n",
        "#         neutral += 1\n",
        "# # -----------------------------------------------\n",
        "\n",
        "print(\"Positive: \", positive)\n",
        "print(\"Negative: \", negative)\n",
        "print(\"Neutral: \", neutral)\n",
        "\n",
        "# Split the data into training and testing sets\n",
        "X_train, X_test, y_train, y_test = train_test_split(df[\"review\"], df[\"rating\"], test_size=0.2, random_state=42)\n",
        "\n",
        "# If flag is 1, then we are using the test data for X_test and y_test\n",
        "if flag == 1:\n",
        "    X_test = test[\"review\"]\n",
        "    y_test = test[\"rating\"]\n",
        "    print(\"Testing on the test data\")\n",
        "\n",
        "\n",
        "\n",
        "\n",
        "# Use CountVectorizer to vectorize the text data\n",
        "count_vectorizer = CountVectorizer(stop_words=\"english\", binary=False)\n",
        "count_train = count_vectorizer.fit_transform(X_train.values)\n",
        "count_test = count_vectorizer.transform(X_test.values)\n",
        "\n",
        "\n",
        "# # Use HashingVectorizer instead of CountVectorizer\n",
        "# from sklearn.feature_extraction.text import HashingVectorizer\n",
        "# hashing_vectorizer = HashingVectorizer(stop_words=\"english\", binary=False)\n",
        "# count_train = hashing_vectorizer.fit_transform(X_train.values)\n",
        "# count_test = hashing_vectorizer.transform(X_test.values)\n"
      ]
    },
    {
      "cell_type": "code",
      "execution_count": 13,
      "metadata": {
        "colab": {
          "base_uri": "https://localhost:8080/"
        },
        "id": "9GGptrnzNzwR",
        "outputId": "614af14f-fe02-4b17-8048-e44cda5a68c0"
      },
      "outputs": [
        {
          "output_type": "stream",
          "name": "stdout",
          "text": [
            "Fitting 3 folds for each of 64 candidates, totalling 192 fits\n"
          ]
        },
        {
          "output_type": "stream",
          "name": "stderr",
          "text": [
            "/usr/local/lib/python3.7/dist-packages/sklearn/model_selection/_validation.py:372: FitFailedWarning: \n",
            "48 fits failed out of a total of 192.\n",
            "The score on these train-test partitions for these parameters will be set to nan.\n",
            "If these failures are not expected, you can try to debug them by setting error_score='raise'.\n",
            "\n",
            "Below are more details about the failures:\n",
            "--------------------------------------------------------------------------------\n",
            "48 fits failed with the following error:\n",
            "Traceback (most recent call last):\n",
            "  File \"/usr/local/lib/python3.7/dist-packages/sklearn/model_selection/_validation.py\", line 680, in _fit_and_score\n",
            "    estimator.fit(X_train, y_train, **fit_params)\n",
            "  File \"/usr/local/lib/python3.7/dist-packages/sklearn/linear_model/_logistic.py\", line 1461, in fit\n",
            "    solver = _check_solver(self.solver, self.penalty, self.dual)\n",
            "  File \"/usr/local/lib/python3.7/dist-packages/sklearn/linear_model/_logistic.py\", line 449, in _check_solver\n",
            "    % (solver, penalty)\n",
            "ValueError: Solver lbfgs supports only 'l2' or 'none' penalties, got l1 penalty.\n",
            "\n",
            "  warnings.warn(some_fits_failed_message, FitFailedWarning)\n",
            "/usr/local/lib/python3.7/dist-packages/sklearn/model_selection/_search.py:972: UserWarning: One or more of the test scores are non-finite: [0.88767315 0.88767319        nan 0.87454991 0.88767315 0.88767319\n",
            "        nan 0.87446645 0.88781111 0.88783883        nan 0.87449205\n",
            " 0.88781111 0.88783883        nan 0.87449227 0.88220159 0.88217386\n",
            "        nan 0.87767506 0.88220159 0.88217386        nan 0.87770277\n",
            " 0.88231201 0.88231215        nan 0.87767456 0.88231201 0.88231215\n",
            "        nan 0.87761915 0.88017407 0.88011842        nan 0.8731237\n",
            " 0.88017407 0.88011842        nan 0.87323514 0.88009041 0.88009054\n",
            "        nan 0.87323447 0.88009041 0.88009054        nan 0.87320673\n",
            " 0.87758965 0.87764534        nan 0.86976288 0.87758965 0.87764534\n",
            "        nan 0.86965151 0.87756169 0.87758939        nan 0.86981806\n",
            " 0.87756169 0.87758939        nan 0.86981798]\n",
            "  category=UserWarning,\n"
          ]
        },
        {
          "output_type": "execute_result",
          "data": {
            "text/plain": [
              "GridSearchCV(cv=3, estimator=LogisticRegression(), n_jobs=-1,\n",
              "             param_grid={'C': [0.1, 0.5, 1, 2],\n",
              "                         'class_weight': ['balanced', None], 'max_iter': [500],\n",
              "                         'multi_class': ['auto', 'ovr'],\n",
              "                         'penalty': ['l2', 'l1'],\n",
              "                         'solver': ['lbfgs', 'liblinear']},\n",
              "             scoring='f1_macro', verbose=2)"
            ]
          },
          "metadata": {},
          "execution_count": 13
        }
      ],
      "source": [
        "# Use grid search to find the best hyperparameters for the model (C, penalty, max_iter, solver, multi_class, class_weight)\n",
        "from sklearn.model_selection import GridSearchCV\n",
        "\n",
        "# Create the parameter grid based on the results of random search\n",
        "param_grid = {\n",
        "    'C': [0.1, 0.5, 1, 2],\n",
        "    'penalty': ['l2', 'l1'],\n",
        "    'max_iter': [500],\n",
        "    'solver': ['lbfgs', 'liblinear'],\n",
        "    'multi_class': ['auto', 'ovr'],\n",
        "    'class_weight': ['balanced', None]\n",
        "}\n",
        "\n",
        "# Create the model\n",
        "classifier = LogisticRegression()\n",
        "\n",
        "# Create the grid search\n",
        "grid_search = GridSearchCV(estimator = classifier, param_grid = param_grid, cv = 3, n_jobs = -1, verbose = 2, scoring=\"f1_macro\")\n",
        "\n",
        "# Fit the grid search to the data\n",
        "grid_search.fit(count_train, y_train)"
      ]
    },
    {
      "cell_type": "code",
      "execution_count": 14,
      "metadata": {
        "colab": {
          "base_uri": "https://localhost:8080/"
        },
        "id": "JB_r3h0CNzwX",
        "outputId": "0508ca89-9181-4b95-b2bd-bcd3adc2050d"
      },
      "outputs": [
        {
          "output_type": "stream",
          "name": "stdout",
          "text": [
            "{'C': 0.1, 'class_weight': None, 'max_iter': 500, 'multi_class': 'auto', 'penalty': 'l2', 'solver': 'liblinear'}\n"
          ]
        }
      ],
      "source": [
        "print(grid_search.best_params_)"
      ]
    },
    {
      "cell_type": "code",
      "execution_count": 15,
      "metadata": {
        "colab": {
          "base_uri": "https://localhost:8080/",
          "height": 347
        },
        "id": "aW41uNdwNzwY",
        "outputId": "70727890-9bcb-4287-c55c-3c2bee624006"
      },
      "outputs": [
        {
          "output_type": "stream",
          "name": "stdout",
          "text": [
            "Precision:  0.893929775998715\n",
            "Recall:  0.8939736678415924\n",
            "F-measure:  0.8939106716529297\n"
          ]
        },
        {
          "output_type": "display_data",
          "data": {
            "text/plain": [
              "<Figure size 432x288 with 1 Axes>"
            ],
            "image/png": "[encoded data removed]"
          },
          "metadata": {
            "needs_background": "light"
          }
        }
      ],
      "source": [
        "# Train the model with the best hyperparameters\n",
        "\n",
        "# Best Paramaeters for CountVectorizer\n",
        "classifier = LogisticRegression(max_iter=500, penalty = 'l2', C =0.1, solver='liblinear', multi_class='auto', class_weight=None)\n",
        "\n",
        "# Best Parameters for HashingVectorizer\n",
        "# classifier = LogisticRegression(max_iter=500, penalty = 'l2', C = 2, solver='lbfgs', multi_class='auto', class_weight='balanced')\n",
        "\n",
        "# Train the model\n",
        "classifier.fit(count_train, y_train)\n",
        "\n",
        "# Predict the sentiment\n",
        "y_pred = classifier.predict(count_test)\n",
        "\n",
        "# Evaluate the model\n",
        "print(\"Precision: \", precision_score(y_test, y_pred, average=\"macro\"))\n",
        "print(\"Recall: \", recall_score(y_test, y_pred, average=\"macro\"))\n",
        "print(\"F-measure: \", f1_score(y_test, y_pred, average=\"macro\"))\n",
        "\n",
        "# plot the learning curve of the model to see if it is overfitting or underfitting\n",
        "from sklearn.model_selection import learning_curve\n",
        "import matplotlib.pyplot as plt\n",
        "\n",
        "train_sizes, train_scores, test_scores = learning_curve(classifier, count_train, y_train, cv=5, scoring=\"f1_macro\", n_jobs=-1, train_sizes=np.linspace(0.1, 1.0, 5))\n",
        "\n",
        "train_scores_mean = np.mean(train_scores, axis=1)\n",
        "train_scores_std = np.std(train_scores, axis=1)\n",
        "test_scores_mean = np.mean(test_scores, axis=1)\n",
        "test_scores_std = np.std(test_scores, axis=1)\n",
        "\n",
        "\n",
        "plt.title(\"Learning curve\")\n",
        "plt.xlabel(\"Training examples\")\n",
        "plt.ylabel(\"Score\")\n",
        "plt.grid()\n",
        "\n",
        " # Training score\n",
        "plt.fill_between(train_sizes, train_scores_mean - train_scores_std, train_scores_mean + train_scores_std, alpha=0.1, color=\"r\")\n",
        " # Cross-validation score\n",
        "plt.fill_between(train_sizes, test_scores_mean - test_scores_std, test_scores_mean + test_scores_std, alpha=0.1, color=\"g\")\n",
        "\n",
        "plt.plot(train_sizes, train_scores_mean, 'o-', color=\"r\", label=\"Training score\")\n",
        "plt.plot(train_sizes, test_scores_mean, 'o-', color=\"g\", label=\"Cross-validation score\")\n",
        "\n",
        "plt.legend(loc=\"best\")\n",
        "plt.show()\n"
      ]
    }
  ],
  "metadata": {
    "kernelspec": {
      "display_name": "Python 3.9.13 ('AI2')",
      "language": "python",
      "name": "python3"
    },
    "language_info": {
      "codemirror_mode": {
        "name": "ipython",
        "version": 3
      },
      "file_extension": ".py",
      "mimetype": "text/x-python",
      "name": "python",
      "nbconvert_exporter": "python",
      "pygments_lexer": "ipython3",
      "version": "3.9.13"
    },
    "orig_nbformat": 4,
    "vscode": {
      "interpreter": {
        "hash": "e14287eb3e8c3f5c25b3ced007a168c47b9e249ff502873da572da074e7fa636"
      }
    },
    "colab": {
      "provenance": []
    }
  },
  "nbformat": 4,
  "nbformat_minor": 0
}